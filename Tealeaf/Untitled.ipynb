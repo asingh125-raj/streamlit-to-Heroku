{
 "cells": [
  {
   "cell_type": "code",
   "execution_count": 1,
   "id": "b6eb9afe-c7c2-4ceb-b4ee-41d650bce0a9",
   "metadata": {},
   "outputs": [],
   "source": [
    "import math"
   ]
  },
  {
   "cell_type": "code",
   "execution_count": 3,
   "id": "f1bf9a9e",
   "metadata": {},
   "outputs": [
    {
     "name": "stdout",
     "output_type": "stream",
     "text": [
      "Requirement already satisfied: scikit-image in c:\\users\\arpana singh\\appdata\\local\\packages\\pythonsoftwarefoundation.python.3.10_qbz5n2kfra8p0\\localcache\\local-packages\\python310\\site-packages (0.19.3)\n",
      "Requirement already satisfied: imageio>=2.4.1 in c:\\users\\arpana singh\\appdata\\local\\packages\\pythonsoftwarefoundation.python.3.10_qbz5n2kfra8p0\\localcache\\local-packages\\python310\\site-packages (from scikit-image) (2.20.0)\n",
      "Requirement already satisfied: numpy>=1.17.0 in c:\\users\\arpana singh\\appdata\\local\\packages\\pythonsoftwarefoundation.python.3.10_qbz5n2kfra8p0\\localcache\\local-packages\\python310\\site-packages (from scikit-image) (1.22.4)\n",
      "Requirement already satisfied: PyWavelets>=1.1.1 in c:\\users\\arpana singh\\appdata\\local\\packages\\pythonsoftwarefoundation.python.3.10_qbz5n2kfra8p0\\localcache\\local-packages\\python310\\site-packages (from scikit-image) (1.3.0)\n",
      "Requirement already satisfied: networkx>=2.2 in c:\\users\\arpana singh\\appdata\\local\\packages\\pythonsoftwarefoundation.python.3.10_qbz5n2kfra8p0\\localcache\\local-packages\\python310\\site-packages (from scikit-image) (2.8.5)\n",
      "Requirement already satisfied: tifffile>=2019.7.26 in c:\\users\\arpana singh\\appdata\\local\\packages\\pythonsoftwarefoundation.python.3.10_qbz5n2kfra8p0\\localcache\\local-packages\\python310\\site-packages (from scikit-image) (2022.5.4)\n",
      "Requirement already satisfied: packaging>=20.0 in c:\\users\\arpana singh\\appdata\\local\\packages\\pythonsoftwarefoundation.python.3.10_qbz5n2kfra8p0\\localcache\\local-packages\\python310\\site-packages (from scikit-image) (21.3)\n",
      "Requirement already satisfied: scipy>=1.4.1 in c:\\users\\arpana singh\\appdata\\local\\packages\\pythonsoftwarefoundation.python.3.10_qbz5n2kfra8p0\\localcache\\local-packages\\python310\\site-packages (from scikit-image) (1.8.1)\n",
      "Requirement already satisfied: pillow!=7.1.0,!=7.1.1,!=8.3.0,>=6.1.0 in c:\\users\\arpana singh\\appdata\\local\\packages\\pythonsoftwarefoundation.python.3.10_qbz5n2kfra8p0\\localcache\\local-packages\\python310\\site-packages (from scikit-image) (9.1.1)\n",
      "Requirement already satisfied: pyparsing!=3.0.5,>=2.0.2 in c:\\users\\arpana singh\\appdata\\local\\packages\\pythonsoftwarefoundation.python.3.10_qbz5n2kfra8p0\\localcache\\local-packages\\python310\\site-packages (from packaging>=20.0->scikit-image) (3.0.8)\n",
      "Note: you may need to restart the kernel to use updated packages.\n"
     ]
    }
   ],
   "source": [
    "pip install -U scikit-image"
   ]
  },
  {
   "cell_type": "code",
   "execution_count": 4,
   "id": "5a1b518d",
   "metadata": {},
   "outputs": [
    {
     "name": "stdout",
     "output_type": "stream",
     "text": [
      "Requirement already satisfied: nvsmi in c:\\users\\arpana singh\\appdata\\local\\packages\\pythonsoftwarefoundation.python.3.10_qbz5n2kfra8p0\\localcache\\local-packages\\python310\\site-packages (0.4.2)\n",
      "Note: you may need to restart the kernel to use updated packages.\n"
     ]
    }
   ],
   "source": [
    "pip install nvsmi\n"
   ]
  },
  {
   "cell_type": "code",
   "execution_count": 16,
   "id": "efc5c487",
   "metadata": {},
   "outputs": [
    {
     "name": "stdout",
     "output_type": "stream",
     "text": [
      "Requirement already satisfied: pillow in c:\\users\\arpana singh\\appdata\\local\\packages\\pythonsoftwarefoundation.python.3.10_qbz5n2kfra8p0\\localcache\\local-packages\\python310\\site-packages (9.1.1)\n",
      "Note: you may need to restart the kernel to use updated packages.\n"
     ]
    }
   ],
   "source": [
    "pip install pillow"
   ]
  },
  {
   "cell_type": "code",
   "execution_count": 17,
   "id": "851d11a8",
   "metadata": {},
   "outputs": [],
   "source": [
    "from PIL import Image\n",
    "import os\n",
    "import PIL\n",
    "import glob"
   ]
  },
  {
   "cell_type": "code",
   "execution_count": 5,
   "id": "aad30c5d",
   "metadata": {},
   "outputs": [],
   "source": [
    "import skimage.transform\n",
    "import numpy as np"
   ]
  },
  {
   "cell_type": "code",
   "execution_count": 6,
   "id": "0d5049ea",
   "metadata": {},
   "outputs": [],
   "source": [
    "import os\n",
    "from tensorflow.keras import models, layers\n",
    "from tensorflow.keras.preprocessing.image import ImageDataGenerator\n",
    "from tensorflow.keras.preprocessing import image\n",
    "from tensorflow.keras.preprocessing.image import img_to_array\n",
    "import tensorflow as tf\n",
    "import matplotlib.pyplot as plt\n",
    "from tensorflow.keras import backend as K"
   ]
  },
  {
   "cell_type": "code",
   "execution_count": 60,
   "id": "7db1aaf6",
   "metadata": {},
   "outputs": [],
   "source": [
    "#nvidia-smi"
   ]
  },
  {
   "cell_type": "code",
   "execution_count": null,
   "id": "a953322c",
   "metadata": {},
   "outputs": [],
   "source": [
    "def bound_image_dim(image_size 0 None. max_size=None):\n",
    "    if (max_size is not  None) and\\\n",
    "        (min_size is not None) and\\\n",
    "            (max_size < min_size):\n",
    "            raise ValueError('´max_size ´ must be >= ´min_size´')\n",
    "            dtype = image.dtype\n",
    "            (height,wdth, *_) = image.shape\n",
    "            scale = 1\n",
    "            if  min_size is not None:\n",
    "                image_min = min(height, width)\n",
    "                scale = max(1,min_size )\n",
    "                   "
   ]
  },
  {
   "cell_type": "code",
   "execution_count": 26,
   "id": "93f749a4",
   "metadata": {},
   "outputs": [],
   "source": [
    "# data_dir = '../input/identifying-disease-in-tea-leafs/tea sickness dataset' \n",
    "# class_names = os.listdir(data_dir)\n",
    "# num_class = len(class_names)\n",
    "# image_files = [[os.path.join(data_dir, class_name, x) \n",
    "#                for x in os.listdir(os.path.join(data_dir, class_name))] \n",
    "#                for class_name in class_names]"
   ]
  },
  {
   "cell_type": "markdown",
   "id": "3b40b2e6",
   "metadata": {},
   "source": []
  },
  {
   "cell_type": "code",
   "execution_count": 76,
   "id": "1faf1937",
   "metadata": {},
   "outputs": [],
   "source": [
    "INIT_LR = 1e-3\n",
    "BATCH_SIZE = 16\n",
    "EPOCHS = 10\n",
    "IMAGE_SIZE = 256\n",
    "default_image_size = tuple((IMAGE_SIZE, IMAGE_SIZE))\n",
    "image_size = 0\n",
    "data_dir = \"..\\\\Final_Project\\\\Input\\\\Data\\\\Healthy_leaf\\\\\"\n",
    "CHANNELS=3\n",
    "AUTOTUNE = tf.data.AUTOTUNE"
   ]
  },
  {
   "cell_type": "code",
   "execution_count": 77,
   "id": "8719cfc2",
   "metadata": {},
   "outputs": [],
   "source": [
    "def get_dataset_partitions_tf(ds, Sick_leaf_split=0.8, Healthy_leaf_split=0.1, test_split=0.1, shuffle=True, shuffle_size=10000):\n",
    "    assert (Sick_leaf_split + test_split + Healthy_leaf_split) == 1\n",
    "    \n",
    "    ds_size = ds.cardinality().numpy()\n",
    "    \n",
    "    if shuffle:\n",
    "        ds = ds.shuffle(shuffle_size, seed=12)\n",
    "    \n",
    "    Healthy_leaf_size = int(Healthy_leaf_split * ds_size)\n",
    "    Sick_leaf_size = int(Sick_leaf_split * ds_size)\n",
    "    \n",
    "    Healthy_leaf_ds = ds.take(Healthy_leaf_size)    \n",
    "    Sick_leaf_ds = ds.skip(Healthy_leaf_size).take(Healthy_leaf_size)\n",
    "    test_ds = ds.skip(Healthy_leaf_size).skip(Sick_leaf_size)\n",
    "    \n",
    "    return Healthy_leaf_ds, Sick_leaf_ds, test_ds"
   ]
  },
  {
   "cell_type": "code",
   "execution_count": 71,
   "id": "f002534a",
   "metadata": {},
   "outputs": [
    {
     "data": {
      "text/plain": [
       "'c:\\\\Users\\\\Arpana Singh\\\\Videos\\\\Learning\\\\Final_Project\\\\Healthy_leaf'"
      ]
     },
     "execution_count": 71,
     "metadata": {},
     "output_type": "execute_result"
    }
   ],
   "source": [
    "import os\n",
    "os.getcwd()"
   ]
  },
  {
   "cell_type": "code",
   "execution_count": 72,
   "id": "a32e325e",
   "metadata": {},
   "outputs": [
    {
     "ename": "FileNotFoundError",
     "evalue": "[WinError 2] The system cannot find the file specified: 'Healthy_leaf'",
     "output_type": "error",
     "traceback": [
      "\u001b[1;31m---------------------------------------------------------------------------\u001b[0m",
      "\u001b[1;31mFileNotFoundError\u001b[0m                         Traceback (most recent call last)",
      "\u001b[1;32mc:\\Users\\Arpana Singh\\Videos\\Learning\\Final_Project\\Untitled.ipynb Cell 15\u001b[0m in \u001b[0;36m<cell line: 1>\u001b[1;34m()\u001b[0m\n\u001b[1;32m----> <a href='vscode-notebook-cell:/c%3A/Users/Arpana%20Singh/Videos/Learning/Final_Project/Untitled.ipynb#ch0000018?line=0'>1</a>\u001b[0m os\u001b[39m.\u001b[39;49mchdir(\u001b[39m'\u001b[39;49m\u001b[39mHealthy_leaf\u001b[39;49m\u001b[39m'\u001b[39;49m)\n",
      "\u001b[1;31mFileNotFoundError\u001b[0m: [WinError 2] The system cannot find the file specified: 'Healthy_leaf'"
     ]
    }
   ],
   "source": [
    "#os.chdir('Healthy_leaf')"
   ]
  },
  {
   "cell_type": "code",
   "execution_count": 78,
   "id": "a8889095",
   "metadata": {},
   "outputs": [
    {
     "ename": "NotFoundError",
     "evalue": "Could not find directory ..\\Final_Project\\Input\\Data\\Healthy_leaf\\",
     "output_type": "error",
     "traceback": [
      "\u001b[1;31m---------------------------------------------------------------------------\u001b[0m",
      "\u001b[1;31mNotFoundError\u001b[0m                             Traceback (most recent call last)",
      "\u001b[1;32mc:\\Users\\Arpana Singh\\Videos\\Learning\\Final_Project\\Untitled.ipynb Cell 16\u001b[0m in \u001b[0;36m<cell line: 2>\u001b[1;34m()\u001b[0m\n\u001b[0;32m      <a href='vscode-notebook-cell:/c%3A/Users/Arpana%20Singh/Videos/Learning/Final_Project/Untitled.ipynb#ch0000010?line=0'>1</a>\u001b[0m \u001b[39m#dataset spliting into training and testing \u001b[39;00m\n\u001b[1;32m----> <a href='vscode-notebook-cell:/c%3A/Users/Arpana%20Singh/Videos/Learning/Final_Project/Untitled.ipynb#ch0000010?line=1'>2</a>\u001b[0m dataset \u001b[39m=\u001b[39m tf\u001b[39m.\u001b[39;49mkeras\u001b[39m.\u001b[39;49mpreprocessing\u001b[39m.\u001b[39;49mimage_dataset_from_directory(\n\u001b[0;32m      <a href='vscode-notebook-cell:/c%3A/Users/Arpana%20Singh/Videos/Learning/Final_Project/Untitled.ipynb#ch0000010?line=2'>3</a>\u001b[0m   data_dir,\n\u001b[0;32m      <a href='vscode-notebook-cell:/c%3A/Users/Arpana%20Singh/Videos/Learning/Final_Project/Untitled.ipynb#ch0000010?line=3'>4</a>\u001b[0m   seed\u001b[39m=\u001b[39;49m\u001b[39m123\u001b[39;49m,\n\u001b[0;32m      <a href='vscode-notebook-cell:/c%3A/Users/Arpana%20Singh/Videos/Learning/Final_Project/Untitled.ipynb#ch0000010?line=4'>5</a>\u001b[0m   image_size\u001b[39m=\u001b[39;49mdefault_image_size,\n\u001b[0;32m      <a href='vscode-notebook-cell:/c%3A/Users/Arpana%20Singh/Videos/Learning/Final_Project/Untitled.ipynb#ch0000010?line=5'>6</a>\u001b[0m   batch_size\u001b[39m=\u001b[39;49mBATCH_SIZE\n\u001b[0;32m      <a href='vscode-notebook-cell:/c%3A/Users/Arpana%20Singh/Videos/Learning/Final_Project/Untitled.ipynb#ch0000010?line=6'>7</a>\u001b[0m )\n\u001b[0;32m     <a href='vscode-notebook-cell:/c%3A/Users/Arpana%20Singh/Videos/Learning/Final_Project/Untitled.ipynb#ch0000010?line=9'>10</a>\u001b[0m Healthy_leaf_ds, sick_leaf_ds, test_ds \u001b[39m=\u001b[39m get_dataset_partitions_tf(dataset)\n",
      "File \u001b[1;32m~\\AppData\\Local\\Packages\\PythonSoftwareFoundation.Python.3.10_qbz5n2kfra8p0\\LocalCache\\local-packages\\Python310\\site-packages\\keras\\utils\\image_dataset.py:207\u001b[0m, in \u001b[0;36mimage_dataset_from_directory\u001b[1;34m(directory, labels, label_mode, class_names, color_mode, batch_size, image_size, shuffle, seed, validation_split, subset, interpolation, follow_links, crop_to_aspect_ratio, **kwargs)\u001b[0m\n\u001b[0;32m    205\u001b[0m \u001b[39mif\u001b[39;00m seed \u001b[39mis\u001b[39;00m \u001b[39mNone\u001b[39;00m:\n\u001b[0;32m    206\u001b[0m     seed \u001b[39m=\u001b[39m np\u001b[39m.\u001b[39mrandom\u001b[39m.\u001b[39mrandint(\u001b[39m1e6\u001b[39m)\n\u001b[1;32m--> 207\u001b[0m image_paths, labels, class_names \u001b[39m=\u001b[39m dataset_utils\u001b[39m.\u001b[39;49mindex_directory(\n\u001b[0;32m    208\u001b[0m     directory,\n\u001b[0;32m    209\u001b[0m     labels,\n\u001b[0;32m    210\u001b[0m     formats\u001b[39m=\u001b[39;49mALLOWLIST_FORMATS,\n\u001b[0;32m    211\u001b[0m     class_names\u001b[39m=\u001b[39;49mclass_names,\n\u001b[0;32m    212\u001b[0m     shuffle\u001b[39m=\u001b[39;49mshuffle,\n\u001b[0;32m    213\u001b[0m     seed\u001b[39m=\u001b[39;49mseed,\n\u001b[0;32m    214\u001b[0m     follow_links\u001b[39m=\u001b[39;49mfollow_links,\n\u001b[0;32m    215\u001b[0m )\n\u001b[0;32m    217\u001b[0m \u001b[39mif\u001b[39;00m label_mode \u001b[39m==\u001b[39m \u001b[39m\"\u001b[39m\u001b[39mbinary\u001b[39m\u001b[39m\"\u001b[39m \u001b[39mand\u001b[39;00m \u001b[39mlen\u001b[39m(class_names) \u001b[39m!=\u001b[39m \u001b[39m2\u001b[39m:\n\u001b[0;32m    218\u001b[0m     \u001b[39mraise\u001b[39;00m \u001b[39mValueError\u001b[39;00m(\n\u001b[0;32m    219\u001b[0m         \u001b[39mf\u001b[39m\u001b[39m'\u001b[39m\u001b[39mWhen passing `label_mode=\u001b[39m\u001b[39m\"\u001b[39m\u001b[39mbinary\u001b[39m\u001b[39m\"\u001b[39m\u001b[39m`, there must be exactly 2 \u001b[39m\u001b[39m'\u001b[39m\n\u001b[0;32m    220\u001b[0m         \u001b[39mf\u001b[39m\u001b[39m\"\u001b[39m\u001b[39mclass_names. Received: class_names=\u001b[39m\u001b[39m{\u001b[39;00mclass_names\u001b[39m}\u001b[39;00m\u001b[39m\"\u001b[39m\n\u001b[0;32m    221\u001b[0m     )\n",
      "File \u001b[1;32m~\\AppData\\Local\\Packages\\PythonSoftwareFoundation.Python.3.10_qbz5n2kfra8p0\\LocalCache\\local-packages\\Python310\\site-packages\\keras\\utils\\dataset_utils.py:524\u001b[0m, in \u001b[0;36mindex_directory\u001b[1;34m(directory, labels, formats, class_names, shuffle, seed, follow_links)\u001b[0m\n\u001b[0;32m    522\u001b[0m \u001b[39melse\u001b[39;00m:\n\u001b[0;32m    523\u001b[0m     subdirs \u001b[39m=\u001b[39m []\n\u001b[1;32m--> 524\u001b[0m     \u001b[39mfor\u001b[39;00m subdir \u001b[39min\u001b[39;00m \u001b[39msorted\u001b[39m(tf\u001b[39m.\u001b[39;49mio\u001b[39m.\u001b[39;49mgfile\u001b[39m.\u001b[39;49mlistdir(directory)):\n\u001b[0;32m    525\u001b[0m         \u001b[39mif\u001b[39;00m tf\u001b[39m.\u001b[39mio\u001b[39m.\u001b[39mgfile\u001b[39m.\u001b[39misdir(tf\u001b[39m.\u001b[39mio\u001b[39m.\u001b[39mgfile\u001b[39m.\u001b[39mjoin(directory, subdir)):\n\u001b[0;32m    526\u001b[0m             \u001b[39mif\u001b[39;00m subdir\u001b[39m.\u001b[39mendswith(\u001b[39m\"\u001b[39m\u001b[39m/\u001b[39m\u001b[39m\"\u001b[39m):\n",
      "File \u001b[1;32m~\\AppData\\Local\\Packages\\PythonSoftwareFoundation.Python.3.10_qbz5n2kfra8p0\\LocalCache\\local-packages\\Python310\\site-packages\\tensorflow\\python\\lib\\io\\file_io.py:766\u001b[0m, in \u001b[0;36mlist_directory_v2\u001b[1;34m(path)\u001b[0m\n\u001b[0;32m    751\u001b[0m \u001b[39m\"\"\"Returns a list of entries contained within a directory.\u001b[39;00m\n\u001b[0;32m    752\u001b[0m \n\u001b[0;32m    753\u001b[0m \u001b[39mThe list is in arbitrary order. It does not contain the special entries \".\"\u001b[39;00m\n\u001b[1;32m   (...)\u001b[0m\n\u001b[0;32m    763\u001b[0m \u001b[39m  errors.NotFoundError if directory doesn't exist\u001b[39;00m\n\u001b[0;32m    764\u001b[0m \u001b[39m\"\"\"\u001b[39;00m\n\u001b[0;32m    765\u001b[0m \u001b[39mif\u001b[39;00m \u001b[39mnot\u001b[39;00m is_directory(path):\n\u001b[1;32m--> 766\u001b[0m   \u001b[39mraise\u001b[39;00m errors\u001b[39m.\u001b[39mNotFoundError(\n\u001b[0;32m    767\u001b[0m       node_def\u001b[39m=\u001b[39m\u001b[39mNone\u001b[39;00m,\n\u001b[0;32m    768\u001b[0m       op\u001b[39m=\u001b[39m\u001b[39mNone\u001b[39;00m,\n\u001b[0;32m    769\u001b[0m       message\u001b[39m=\u001b[39m\u001b[39m\"\u001b[39m\u001b[39mCould not find directory \u001b[39m\u001b[39m{}\u001b[39;00m\u001b[39m\"\u001b[39m\u001b[39m.\u001b[39mformat(path))\n\u001b[0;32m    771\u001b[0m \u001b[39m# Convert each element to string, since the return values of the\u001b[39;00m\n\u001b[0;32m    772\u001b[0m \u001b[39m# vector of string should be interpreted as strings, not bytes.\u001b[39;00m\n\u001b[0;32m    773\u001b[0m \u001b[39mreturn\u001b[39;00m [\n\u001b[0;32m    774\u001b[0m     compat\u001b[39m.\u001b[39mas_str_any(filename)\n\u001b[0;32m    775\u001b[0m     \u001b[39mfor\u001b[39;00m filename \u001b[39min\u001b[39;00m _pywrap_file_io\u001b[39m.\u001b[39mGetChildren(compat\u001b[39m.\u001b[39mpath_to_bytes(path))\n\u001b[0;32m    776\u001b[0m ]\n",
      "\u001b[1;31mNotFoundError\u001b[0m: Could not find directory ..\\Final_Project\\Input\\Data\\Healthy_leaf\\"
     ]
    }
   ],
   "source": [
    "#dataset spliting into training and testing \n",
    "dataset = tf.keras.preprocessing.image_dataset_from_directory(\n",
    "  data_dir,\n",
    "  seed=123,\n",
    "  image_size=default_image_size,\n",
    "  batch_size=BATCH_SIZE\n",
    ")\n",
    "\n",
    "\n",
    "Healthy_leaf_ds, sick_leaf_ds, test_ds = get_dataset_partitions_tf(dataset)"
   ]
  },
  {
   "cell_type": "code",
   "execution_count": 41,
   "id": "97d7de90",
   "metadata": {},
   "outputs": [],
   "source": [
    "# path ='../C/Users/Arpana Singh/Videos/Learning/Final_Project/Healthy_leaf'\n",
    "# path, dirs, files = next(os.walk(path))\n",
    "# #print(files)\n",
    "\n",
    "# # remove non-csv files\n",
    "# for file in files:\n",
    "#     if not file.endswith(\"jpg\"):\n",
    "#         files.remove(file)\n",
    "        \n",
    "#  df_list = []\n",
    "\n",
    "# # append datasets to the list\n",
    "# for file in files:\n",
    "#     temp_df = pd.read_jpj(path + file, sep=',')\n",
    "#     df_list.append(temp_df)\n",
    "\n",
    "# # show results\n",
    "# products, orders, orderlines, brands = df_list[0], df_list[1], df_list[2], df_list[3]"
   ]
  },
  {
   "cell_type": "code",
   "execution_count": 75,
   "id": "914f2c62",
   "metadata": {},
   "outputs": [
    {
     "name": "stderr",
     "output_type": "stream",
     "text": [
      "The filename, directory name, or volume label syntax is incorrect.\n",
      "'ls' is not recognized as an internal or external command,\n",
      "operable program or batch file.\n"
     ]
    }
   ],
   "source": [
    "!cd ..C:\\Users\\Arpana Singh\\Videos\\Learning\\Final_Project\\Healthy_leaf\n",
    "!ls"
   ]
  },
  {
   "cell_type": "code",
   "execution_count": null,
   "id": "bb4fed40",
   "metadata": {},
   "outputs": [],
   "source": []
  }
 ],
 "metadata": {
  "kernelspec": {
   "display_name": "Python 3.10.5 64-bit (windows store)",
   "language": "python",
   "name": "python3"
  },
  "language_info": {
   "codemirror_mode": {
    "name": "ipython",
    "version": 3
   },
   "file_extension": ".py",
   "mimetype": "text/x-python",
   "name": "python",
   "nbconvert_exporter": "python",
   "pygments_lexer": "ipython3",
   "version": "3.10.5"
  },
  "vscode": {
   "interpreter": {
    "hash": "8d9e1c7beb8806c2047d22245f1b4205d3fa5d38335e6a7a08a48293a4e6099e"
   }
  }
 },
 "nbformat": 4,
 "nbformat_minor": 5
}
